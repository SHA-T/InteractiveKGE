{
 "cells": [
  {
   "cell_type": "markdown",
   "metadata": {
    "id": "QkQl613v5gAr"
   },
   "source": [
    "# Scripts\n",
    "\n",
    "... to modify the code and do other useful stuff."
   ]
  },
  {
   "cell_type": "code",
   "execution_count": 4,
   "metadata": {
    "id": "aCpONep9K7K8"
   },
   "outputs": [],
   "source": [
    "from matplotlib import pyplot as plt\n",
    "import pandas as pd\n",
    "import numpy as np\n",
    "import pathlib\n",
    "import glob\n",
    "from PIL import Image\n",
    "from random import randint"
   ]
  },
  {
   "cell_type": "markdown",
   "metadata": {},
   "source": [
    "## Code Changes"
   ]
  },
  {
   "cell_type": "markdown",
   "metadata": {
    "id": "vK57mHz8gSH5"
   },
   "source": [
    "Run below cell to modify the code so that it is reproducible by setting numpy, torch and random's seed to a fixed value. Also it modifies the code a little bit to be able to store embeddings during training"
   ]
  },
  {
   "cell_type": "code",
   "execution_count": 7,
   "metadata": {
    "id": "567fUw7LlS6Z"
   },
   "outputs": [
    {
     "name": "stdout",
     "output_type": "stream",
     "text": [
      "Finished!\n"
     ]
    }
   ],
   "source": [
    "line =\"torch.manual_seed(0)\\nnp.random.seed(0)\\n\"\n",
    "f = open(\"codes/dataloader.py\", \"r\")\n",
    "contents = f.readlines()\n",
    "f.close()\n",
    "contents.insert(8, line)\n",
    "f = open(\"codes/dataloader.py\", \"w\")\n",
    "contents = \"\".join(contents)\n",
    "f.write(contents)\n",
    "f.close()\n",
    "\n",
    "f = open(\"codes/model.py\", \"r\")\n",
    "contents = f.readlines()\n",
    "f.close()\n",
    "contents.insert(13, line)\n",
    "f = open(\"codes/model.py\", \"w\")\n",
    "contents = \"\".join(contents)\n",
    "f.write(contents)\n",
    "f.close()\n",
    "\n",
    "f = open(\"codes/run.py\", \"r\")\n",
    "contents = f.readlines()\n",
    "f.close()\n",
    "contents.insert(14, line+\"random.seed(0)\")\n",
    "f = open(\"codes/run.py\", \"w\")\n",
    "contents = \"\".join(contents)\n",
    "f.write(contents)\n",
    "f.close()\n",
    "\n",
    "f = open(\"codes/run.py\", \"r\")\n",
    "contents = f.readlines()\n",
    "f.close()\n",
    "contents[91] = \"def save_model(model, optimizer, save_variable_list, args, step=0):\\n\"\n",
    "contents[110] = \"        os.path.join(args.save_path, 'entity_embedding'+str(f\\\"{step:06d}\\\")), \\n\"\n",
    "contents[325] = \"                save_model(kge_model, optimizer, save_variable_list, args, step)\\n\"\n",
    "\n",
    "f = open(\"codes/run.py\", \"w\")\n",
    "contents = \"\".join(contents)\n",
    "f.write(contents)\n",
    "f.close()\n",
    "\n",
    "print(\"Finished!\")"
   ]
  }
 ],
 "metadata": {
  "accelerator": "GPU",
  "colab": {
   "collapsed_sections": [
    "lvE2OeWW5_DQ"
   ],
   "provenance": []
  },
  "gpuClass": "standard",
  "kernelspec": {
   "display_name": "Python 3 (ipykernel)",
   "language": "python",
   "name": "python3"
  },
  "language_info": {
   "codemirror_mode": {
    "name": "ipython",
    "version": 3
   },
   "file_extension": ".py",
   "mimetype": "text/x-python",
   "name": "python",
   "nbconvert_exporter": "python",
   "pygments_lexer": "ipython3",
   "version": "3.9.12"
  }
 },
 "nbformat": 4,
 "nbformat_minor": 1
}
