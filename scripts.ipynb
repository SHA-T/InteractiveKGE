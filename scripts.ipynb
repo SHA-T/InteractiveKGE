{
 "cells": [
  {
   "cell_type": "markdown",
   "metadata": {
    "id": "QkQl613v5gAr"
   },
   "source": [
    "# Scripts\n",
    "\n",
    "... to modify the code and do other useful stuff."
   ]
  },
  {
   "cell_type": "code",
   "execution_count": 4,
   "metadata": {
    "id": "aCpONep9K7K8"
   },
   "outputs": [],
   "source": [
    "from matplotlib import pyplot as plt\n",
    "import pandas as pd\n",
    "import numpy as np\n",
    "import pathlib\n",
    "import glob\n",
    "from PIL import Image\n",
    "from random import randint\n",
    "import numpy as np\n",
    "import glob"
   ]
  },
  {
   "cell_type": "markdown",
   "metadata": {},
   "source": [
    "## Code Modifications"
   ]
  },
  {
   "cell_type": "markdown",
   "metadata": {
    "id": "vK57mHz8gSH5"
   },
   "source": [
    "Run below cell to modify the code so that it is reproducible by setting numpy, torch and random's seed to a fixed value. Also it modifies the code a little bit to be able to save store embeddings during training\n",
    "\n"
   ]
  },
  {
   "cell_type": "code",
   "execution_count": 5,
   "metadata": {},
   "outputs": [
    {
     "data": {
      "text/plain": [
       "'C:\\\\Users\\\\tsham\\\\Desktop\\\\Github\\\\KnowledgeGraphEmbedding'"
      ]
     },
     "execution_count": 5,
     "metadata": {},
     "output_type": "execute_result"
    }
   ],
   "source": [
    "%pwd"
   ]
  },
  {
   "cell_type": "code",
   "execution_count": 7,
   "metadata": {
    "id": "567fUw7LlS6Z"
   },
   "outputs": [
    {
     "name": "stdout",
     "output_type": "stream",
     "text": [
      "Finished!\n"
     ]
    }
   ],
   "source": [
    "line =\"torch.manual_seed(0)\\nnp.random.seed(0)\\n\"\n",
    "f = open(\"codes/dataloader.py\", \"r\")\n",
    "contents = f.readlines()\n",
    "f.close()\n",
    "contents.insert(8, line)\n",
    "f = open(\"codes/dataloader.py\", \"w\")\n",
    "contents = \"\".join(contents)\n",
    "f.write(contents)\n",
    "f.close()\n",
    "\n",
    "f = open(\"codes/model.py\", \"r\")\n",
    "contents = f.readlines()\n",
    "f.close()\n",
    "contents.insert(13, line)\n",
    "f = open(\"codes/model.py\", \"w\")\n",
    "contents = \"\".join(contents)\n",
    "f.write(contents)\n",
    "f.close()\n",
    "\n",
    "f = open(\"codes/run.py\", \"r\")\n",
    "contents = f.readlines()\n",
    "f.close()\n",
    "contents.insert(14, line+\"random.seed(0)\")\n",
    "f = open(\"codes/run.py\", \"w\")\n",
    "contents = \"\".join(contents)\n",
    "f.write(contents)\n",
    "f.close()\n",
    "\n",
    "f = open(\"codes/run.py\", \"r\")\n",
    "contents = f.readlines()\n",
    "f.close()\n",
    "contents[91] = \"def save_model(model, optimizer, save_variable_list, args, step=0):\\n\"\n",
    "contents[110] = \"        os.path.join(args.save_path, 'entity_embedding'+str(f\\\"{step:06d}\\\")), \\n\"\n",
    "contents[325] = \"                save_model(kge_model, optimizer, save_variable_list, args, step)\\n\"\n",
    "\n",
    "f = open(\"codes/run.py\", \"w\")\n",
    "contents = \"\".join(contents)\n",
    "f.write(contents)\n",
    "f.close()\n",
    "\n",
    "print(\"Finished!\")"
   ]
  },
  {
   "cell_type": "markdown",
   "metadata": {},
   "source": [
    "## Backup, Change & Restore Data\n",
    "\n",
    "This is to change Data for experiments (e.g. make dataset smaller). Preserve the order for Backup, Change & Restore!"
   ]
  },
  {
   "cell_type": "markdown",
   "metadata": {},
   "source": [
    "### 1. Backup Data"
   ]
  },
  {
   "cell_type": "code",
   "execution_count": 9,
   "metadata": {
    "id": "ripKLnA6SxHy"
   },
   "outputs": [
    {
     "name": "stderr",
     "output_type": "stream",
     "text": [
      "UsageError: Line magic function `%cp` not found.\n"
     ]
    }
   ],
   "source": [
    "#run this cell to copy the original data into a safe file\n",
    "!cp /content/KnowledgeGraphEmbedding/data/countries_S1/train.txt /content/KnowledgeGraphEmbedding/data/countries_S1/original_train.txt\n",
    "!cp /content/KnowledgeGraphEmbedding/data/countries_S1/valid.txt /content/KnowledgeGraphEmbedding/data/countries_S1/original_valid.txt\n",
    "!cp /content/KnowledgeGraphEmbedding/data/countries_S1/test.txt /content/KnowledgeGraphEmbedding/data/countries_S1/original_test.txt"
   ]
  },
  {
   "cell_type": "markdown",
   "metadata": {},
   "source": [
    "### 2. Change Data"
   ]
  },
  {
   "cell_type": "code",
   "execution_count": 8,
   "metadata": {},
   "outputs": [],
   "source": [
    "tmp = pd.read_csv(\"data/countries_S1/train.txt\", sep=\"\\t\", header=None)\n",
    "headers =  [\"head\", \"relation\", \"tail\"]\n",
    "tmp.columns = headers\n",
    "\n",
    "#try belows for transe and distmult\n",
    "#filter_countries = [\"slovakia\", \"china\", \"united_states\"] \n",
    "#try below for RotatE\n",
    "filter_countries = [ \"spain\", \"united_states\", \"denmark\"] \n",
    "tmp_filtered = tmp[\"head\"].isin(filter_countries)\n",
    "filtered_df = tmp[tmp_filtered]\n",
    "filtered_df = filtered_df[filtered_df[\"relation\"] == \"neighbor\"]\n",
    "df = filtered_df\n",
    "df.columns = headers\n",
    "\n",
    "\n",
    "df.to_csv(\"data/countries_S1/train.txt\", sep=\"\\t\", index=False, header=False )\n",
    "df.to_csv(\"data/countries_S1/valid.txt\", sep=\"\\t\", index=False, header=False )\n",
    "df.to_csv(\"data/countries_S1/test.txt\", sep=\"\\t\", index=False, header=False )"
   ]
  },
  {
   "cell_type": "markdown",
   "metadata": {},
   "source": [
    "### 3. Restore Data"
   ]
  },
  {
   "cell_type": "code",
   "execution_count": 8,
   "metadata": {
    "id": "cd0rqtpLBKQA"
   },
   "outputs": [],
   "source": [
    "#run this cell to restore the original train-valid set of countries_S1\n",
    "!rm /content/KnowledgeGraphEmbedding/data/countries_S1/train.txt\n",
    "!rm /content/KnowledgeGraphEmbedding/data/countries_S1/valid.txt\n",
    "!rm /content/KnowledgeGraphEmbedding/data/countries_S1/test.txt\n",
    "\n",
    "!cp /content/KnowledgeGraphEmbedding/data/countries_S1/original_train.txt /content/KnowledgeGraphEmbedding/data/countries_S1/train.txt\n",
    "!cp /content/KnowledgeGraphEmbedding/data/countries_S1/original_valid.txt /content/KnowledgeGraphEmbedding/data/countries_S1/valid.txt\n",
    "!cp /content/KnowledgeGraphEmbedding/data/countries_S1/original_test.txt /content/KnowledgeGraphEmbedding/data/countries_S1/test.txt"
   ]
  }
 ],
 "metadata": {
  "accelerator": "GPU",
  "colab": {
   "collapsed_sections": [
    "lvE2OeWW5_DQ"
   ],
   "provenance": []
  },
  "gpuClass": "standard",
  "kernelspec": {
   "display_name": "Python 3 (ipykernel)",
   "language": "python",
   "name": "python3"
  },
  "language_info": {
   "codemirror_mode": {
    "name": "ipython",
    "version": 3
   },
   "file_extension": ".py",
   "mimetype": "text/x-python",
   "name": "python",
   "nbconvert_exporter": "python",
   "pygments_lexer": "ipython3",
   "version": "3.9.12"
  }
 },
 "nbformat": 4,
 "nbformat_minor": 1
}
